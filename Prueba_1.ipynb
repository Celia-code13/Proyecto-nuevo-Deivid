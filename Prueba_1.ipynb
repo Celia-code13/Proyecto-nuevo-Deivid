{
 "cells": [
  {
   "cell_type": "code",
   "execution_count": 3,
   "metadata": {},
   "outputs": [
    {
     "name": "stdout",
     "output_type": "stream",
     "text": [
      "Collecting pandas>=0.0.0 (from -r C:\\Users\\Celia\\Desktop\\Visual Code Projects\\Proyecto nuevo Deivid\\requirements.txt (line 1))\n",
      "  Using cached pandas-2.2.2-cp312-cp312-win_amd64.whl.metadata (19 kB)\n",
      "Collecting numpy>=0.0.0 (from -r C:\\Users\\Celia\\Desktop\\Visual Code Projects\\Proyecto nuevo Deivid\\requirements.txt (line 2))\n",
      "  Using cached numpy-1.26.4-cp312-cp312-win_amd64.whl.metadata (61 kB)\n",
      "Requirement already satisfied: python-dateutil>=2.8.2 in c:\\users\\celia\\miniconda3\\lib\\site-packages (from pandas>=0.0.0->-r C:\\Users\\Celia\\Desktop\\Visual Code Projects\\Proyecto nuevo Deivid\\requirements.txt (line 1)) (2.9.0)\n",
      "Collecting pytz>=2020.1 (from pandas>=0.0.0->-r C:\\Users\\Celia\\Desktop\\Visual Code Projects\\Proyecto nuevo Deivid\\requirements.txt (line 1))\n",
      "  Using cached pytz-2024.1-py2.py3-none-any.whl.metadata (22 kB)\n",
      "Collecting tzdata>=2022.7 (from pandas>=0.0.0->-r C:\\Users\\Celia\\Desktop\\Visual Code Projects\\Proyecto nuevo Deivid\\requirements.txt (line 1))\n",
      "  Using cached tzdata-2024.1-py2.py3-none-any.whl.metadata (1.4 kB)\n",
      "Requirement already satisfied: six>=1.5 in c:\\users\\celia\\miniconda3\\lib\\site-packages (from python-dateutil>=2.8.2->pandas>=0.0.0->-r C:\\Users\\Celia\\Desktop\\Visual Code Projects\\Proyecto nuevo Deivid\\requirements.txt (line 1)) (1.16.0)\n",
      "Using cached pandas-2.2.2-cp312-cp312-win_amd64.whl (11.5 MB)\n",
      "Using cached numpy-1.26.4-cp312-cp312-win_amd64.whl (15.5 MB)\n",
      "Using cached pytz-2024.1-py2.py3-none-any.whl (505 kB)\n",
      "Using cached tzdata-2024.1-py2.py3-none-any.whl (345 kB)\n",
      "Installing collected packages: pytz, tzdata, numpy, pandas\n",
      "Successfully installed numpy-1.26.4 pandas-2.2.2 pytz-2024.1 tzdata-2024.1\n"
     ]
    }
   ],
   "source": [
    "!pip install -r \"C:\\Users\\Celia\\Desktop\\Visual Code Projects\\Proyecto nuevo Deivid\\requirements.txt\""
   ]
  },
  {
   "cell_type": "code",
   "execution_count": 4,
   "metadata": {},
   "outputs": [],
   "source": [
    "import pandas as pd"
   ]
  },
  {
   "cell_type": "code",
   "execution_count": 5,
   "metadata": {},
   "outputs": [
    {
     "name": "stdout",
     "output_type": "stream",
     "text": [
      "guapo\n"
     ]
    }
   ],
   "source": [
    "print(\"guapo\")"
   ]
  }
 ],
 "metadata": {
  "kernelspec": {
   "display_name": "Python 3",
   "language": "python",
   "name": "python3"
  },
  "language_info": {
   "codemirror_mode": {
    "name": "ipython",
    "version": 3
   },
   "file_extension": ".py",
   "mimetype": "text/x-python",
   "name": "python",
   "nbconvert_exporter": "python",
   "pygments_lexer": "ipython3",
   "version": "3.12.2"
  }
 },
 "nbformat": 4,
 "nbformat_minor": 2
}
